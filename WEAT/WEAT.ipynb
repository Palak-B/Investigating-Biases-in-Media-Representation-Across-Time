{
 "cells": [
  {
   "cell_type": "code",
   "execution_count": 1,
   "metadata": {},
   "outputs": [
    {
     "name": "stderr",
     "output_type": "stream",
     "text": [
      "[nltk_data] Downloading package words to\n",
      "[nltk_data]     /Users/chitvangoyal/nltk_data...\n",
      "[nltk_data]   Package words is already up-to-date!\n",
      "[nltk_data] Downloading package stopwords to\n",
      "[nltk_data]     /Users/chitvangoyal/nltk_data...\n",
      "[nltk_data]   Package stopwords is already up-to-date!\n"
     ]
    }
   ],
   "source": [
    "import numpy as np\n",
    "from gensim.models import KeyedVectors\n",
    "from scipy.spatial.distance import cosine\n",
    "import nltk\n",
    "from nltk.corpus import words\n",
    "nltk.download('words')\n",
    "nltk.download('stopwords')\n",
    "from nltk.corpus import stopwords\n",
    "from embeddings import Embeddings\n",
    "import matplotlib.pyplot as plt\n",
    "import random\n",
    "from tqdm import tqdm\n",
    "import os\n",
    "import pickle"
   ]
  },
  {
   "cell_type": "code",
   "execution_count": 45,
   "metadata": {},
   "outputs": [],
   "source": [
    "# Load pre-trained GloVe embeddings\n",
    "def load_embeddings(file_path):\n",
    "    return KeyedVectors.load_word2vec_format(file_path, binary=False)\n",
    "\n",
    "# Compute cosine similarity between two vectors\n",
    "def cosine_similarity(vec1, vec2):\n",
    "    return 1 - cosine(vec1, vec2)\n",
    "\n",
    "# Compute the differential association between two sets of words\n",
    "def differential_association(word, A, B, embeddings):\n",
    "    mean_cosine_A = np.mean([cosine_similarity(embeddings[word], embeddings[a]) for a in A])\n",
    "    mean_cosine_B = np.mean([cosine_similarity(embeddings[word], embeddings[b]) for b in B])\n",
    "    return mean_cosine_A - mean_cosine_B\n",
    "\n",
    "# Compute effect size\n",
    "def effect_size(X, A, B, embeddings):\n",
    "    mean_X = np.mean([differential_association(x, A, B, embeddings) for x in X])\n",
    "    std_dev = np.std([differential_association(x, A, B, embeddings) for x in X])\n",
    "    return (mean_X) / std_dev\n",
    "\n",
    "def display_gender_bias(X, Y, A, B, embeddings):\n",
    "    male_vec = np.mean([embeddings[word] for word in A if word in embeddings], axis=0)\n",
    "    female_vec = np.mean([embeddings[word] for word in B if word in embeddings], axis=0)\n",
    "    \n",
    "    for occupation in X + Y:\n",
    "        if occupation in embeddings:\n",
    "            occ_vec = embeddings[occupation]\n",
    "            male_similarity = cosine_similarity(occ_vec, male_vec)\n",
    "            female_similarity = cosine_similarity(occ_vec, female_vec)\n",
    "            print(f\"{occupation}: Male bias={male_similarity:.4f}, Female bias={female_similarity:.4f}\")\n",
    "\n",
    "def plot_gender_bias(X, Y, A, B, embeddings):\n",
    "    male_biases = []\n",
    "    female_biases = []\n",
    "    labels = []\n",
    "\n",
    "    # Compute the average vector for male and female attributes\n",
    "    male_vec = np.mean([embeddings[word] for word in A if word in embeddings], axis=0)\n",
    "    female_vec = np.mean([embeddings[word] for word in B if word in embeddings], axis=0)\n",
    "\n",
    "    # Calculate biases for each occupation\n",
    "    for occupation in X + Y:\n",
    "        if occupation in embeddings:\n",
    "            occ_vec = embeddings[occupation]\n",
    "            male_bias = cosine_similarity(occ_vec, male_vec)\n",
    "            female_bias = cosine_similarity(occ_vec, female_vec)\n",
    "            male_biases.append(male_bias)\n",
    "            female_biases.append(female_bias)\n",
    "            labels.append(occupation)\n",
    "\n",
    "    # Plotting\n",
    "    plt.figure(figsize=(10, 8))\n",
    "    scatter = plt.scatter(male_biases, female_biases, alpha=0.6)\n",
    "\n",
    "    # Annotate some points\n",
    "    for i, label in enumerate(labels):\n",
    "        if i % 5 == 0:  # Annotate every 5th label for clarity\n",
    "            plt.annotate(label, (male_biases[i], female_biases[i]))\n",
    "\n",
    "    plt.axvline(x=0, color='grey', linestyle='--')\n",
    "    plt.axhline(y=0, color='grey', linestyle='--')\n",
    "    plt.title('Scatter Plot of Gender Bias by Occupation')\n",
    "    plt.xlabel('Cosine Similarity to Male Vector')\n",
    "    plt.ylabel('Cosine Similarity to Female Vector')\n",
    "    plt.grid(True)\n",
    "    plt.show()"
   ]
  },
  {
   "cell_type": "code",
   "execution_count": 3,
   "metadata": {},
   "outputs": [
    {
     "name": "stdout",
     "output_type": "stream",
     "text": [
      "['alluring', 'voluptuous', 'blushing', 'homely', 'plump', 'sensual', 'gorgeous', 'slim', 'bald', 'athletic', 'fashionable', 'stout', 'ugly', 'muscular', 'slender', 'feeble', 'handsome', 'healthy', 'attractive', 'fat', 'weak', 'thin', 'pretty', 'beautiful', 'strong']\n",
      "['precocious', 'resourceful', 'inquisitive', 'sagacious', 'inventive', 'astute', 'adaptable', 'reflective', 'discerning', 'intuitive', 'inquiring', 'judicious', 'analytical', 'luminous', 'venerable', 'imaginative', 'shrewd', 'thoughtful', 'sage', 'smart', 'ingenious', 'clever', 'brilliant', 'logical', 'intelligent', 'apt', 'genius', 'wise']\n",
      "['she', 'daughter', 'hers', 'her', 'mother', 'woman', 'girl', 'herself', 'female', 'sister', 'daughters', 'mothers', 'women', 'girls', 'females', 'sisters', 'aunt', 'aunts', 'niece', 'nieces']\n",
      "['he', 'son', 'his', 'him', 'father', 'man', 'boy', 'himself', 'male', 'brother', 'sons', 'fathers', 'men', 'boys', 'males', 'brothers', 'uncle', 'uncles', 'nephew', 'nephews']\n"
     ]
    }
   ],
   "source": [
    "def read_words_from_file(file_path):\n",
    "    \"\"\"\n",
    "    Read words from a text file and return them as a list.\n",
    "    \n",
    "    Parameters:\n",
    "        file_path (str): Path to the text file.\n",
    "        \n",
    "    Returns:\n",
    "        list: List of words read from the file.\n",
    "    \"\"\"\n",
    "    with open(file_path, 'r') as file:\n",
    "        words = [line.strip() for line in file]\n",
    "    return words\n",
    "\n",
    "# Example usage\n",
    "file_path = \"../adjectives_appearance.txt\" \n",
    "appearance = read_words_from_file(file_path)\n",
    "print(appearance)\n",
    "\n",
    "file_path = \"../adjectives_intelligencegeneral.txt\"  \n",
    "intelligencegeneral = read_words_from_file(file_path)\n",
    "print(intelligencegeneral)\n",
    "\n",
    "file_path = \"../female_pairs.txt\"  \n",
    "female = read_words_from_file(file_path)\n",
    "print(female)\n",
    "\n",
    "file_path = \"../male_pairs.txt\" \n",
    "male = read_words_from_file(file_path)\n",
    "print(male)\n"
   ]
  },
  {
   "cell_type": "code",
   "execution_count": 17,
   "metadata": {},
   "outputs": [],
   "source": [
    "years = []\n",
    "vocab = []\n",
    "for file_name in os.listdir('../sgns/'):\n",
    "        if file_name.endswith('.pkl'):\n",
    "                if file_name[:4] not in  ['1880', '2000','1860','1900']:\n",
    "                        file_path = os.path.join('../sgns/', file_name)\n",
    "                        words = np.load(file_path, allow_pickle=True)\n",
    "                        years.append(file_name[:4])\n",
    "                        vocab.append(words)\n",
    "                        #print(words)"
   ]
  },
  {
   "cell_type": "code",
   "execution_count": 18,
   "metadata": {},
   "outputs": [],
   "source": [
    "def list_update(words_list):\n",
    "    word_list_updated=[]\n",
    "    for i in words_list:\n",
    "        t=False\n",
    "        for j in vocab:\n",
    "            if i not in j:\n",
    "                t = True\n",
    "        if t == False:\n",
    "            word_list_updated.append(i)\n",
    "    return word_list_updated\n",
    "\n"
   ]
  },
  {
   "cell_type": "code",
   "execution_count": 20,
   "metadata": {},
   "outputs": [
    {
     "data": {
      "text/plain": [
       "['1810',\n",
       " '1820',\n",
       " '1850',\n",
       " '1870',\n",
       " '1890',\n",
       " '1910',\n",
       " '1930',\n",
       " '1940',\n",
       " '1960',\n",
       " '1970',\n",
       " '1980']"
      ]
     },
     "execution_count": 20,
     "metadata": {},
     "output_type": "execute_result"
    }
   ],
   "source": [
    "years = sorted(years)\n",
    "years"
   ]
  },
  {
   "cell_type": "code",
   "execution_count": 21,
   "metadata": {},
   "outputs": [],
   "source": [
    "\n",
    "file_path_words=[]\n",
    "vec_path=[]\n",
    "for year in years:\n",
    "    for file_name in os.listdir('../sgns/'):\n",
    "        if file_name.endswith('.pkl') and file_name.startswith(year):\n",
    "            file_path = os.path.join('../sgns/', file_name)\n",
    "            file_path_words.append(file_path)\n",
    "        if file_name.endswith('.npy') and file_name.startswith(year):\n",
    "            file_path = os.path.join('../sgns/', file_name)\n",
    "            vec_path.append(file_path)\n",
    "\n",
    "        \n",
    "    "
   ]
  },
  {
   "cell_type": "code",
   "execution_count": 41,
   "metadata": {},
   "outputs": [],
   "source": [
    "X = [\n",
    "    'janitor', 'bailiff', 'geologist', 'athlete', 'physicist', \n",
    "    'blacksmith', 'psychologist', 'mathematician', 'surveyor', 'mechanic', \n",
    "    'laborer', 'postmaster', 'broker', 'chemist', 'scientist', 'carpenter', \n",
    "    'sailor', 'instructor', 'sheriff', 'pilot', 'inspector', 'mason', \n",
    "    'architect', 'collector', 'operator', 'surgeon', 'driver', 'engineer', \n",
    "    'lawyer', 'clergy', 'physician', 'farmer', 'manager', 'guard', 'smith', \n",
    "    'official', 'police', 'doctor', 'professor', 'judge', 'author', 'soldier','astronomer',\n",
    "    'pharmacist', 'anatomist', 'linguist', 'comedian', 'swimmer',\n",
    "    'entertainer', 'politician', 'astrologer', 'philosopher', 'technician', 'deputy', 'sculptor', 'businessman',\n",
    "    'industrialist', 'historian' ,'critic', 'financier', 'president', 'actor', 'singer', 'filmmaker', 'botanist',\n",
    "    \"statistician\", \"statistician\", 'chauffeur', 'divers'\n",
    "]\n",
    "\n",
    "# appearance\n",
    "# intelligencegeneral"
   ]
  },
  {
   "cell_type": "code",
   "execution_count": 46,
   "metadata": {},
   "outputs": [
    {
     "name": "stderr",
     "output_type": "stream",
     "text": [
      "/Users/chitvangoyal/anaconda3/envs/2590-hw4/lib/python3.9/site-packages/scipy/spatial/distance.py:636: RuntimeWarning: invalid value encountered in scalar divide\n",
      "  dist = 1.0 - uv / np.sqrt(uu * vv)\n"
     ]
    }
   ],
   "source": [
    "weat = []\n",
    "effect_size_result =[]\n",
    "# file_path_words=[]\n",
    "# vec_path=[]\n",
    "for i in range(len(years)):\n",
    "\n",
    "    words = np.load(file_path_words[i], allow_pickle=True)\n",
    "    vecs = np.load(vec_path[i], allow_pickle=True)\n",
    "\n",
    "    keyed_vectors = KeyedVectors(vector_size=len(vecs[0]))\n",
    "    keyed_vectors.add_vectors(words, vecs)\n",
    "    #effect_size_result.append(effect_size(X=X, A=male, B=female, embeddings=keyed_vectors))\n",
    "    #effect_size_result.append(effect_size(X=intelligencegeneral, A=male, B=female, embeddings=keyed_vectors))\n",
    "    effect_size_result.append(effect_size(X=appearance, A=male, B=female, embeddings=keyed_vectors))\n",
    "\n",
    "        \n",
    "    "
   ]
  },
  {
   "cell_type": "code",
   "execution_count": 47,
   "metadata": {},
   "outputs": [
    {
     "data": {
      "text/plain": [
       "[-0.2782070596259771,\n",
       " 0.21860365119478672,\n",
       " 0.7345575675925898,\n",
       " 0.7428455849462483,\n",
       " 0.5269835637021381,\n",
       " 0.9352549097752489,\n",
       " 0.9892394605299725,\n",
       " 0.2743693198792299,\n",
       " 0.4627182608574714,\n",
       " 0.8698598368484262,\n",
       " 0.745508504406957]"
      ]
     },
     "execution_count": 47,
     "metadata": {},
     "output_type": "execute_result"
    }
   ],
   "source": [
    "effect_size_result"
   ]
  },
  {
   "cell_type": "code",
   "execution_count": 48,
   "metadata": {},
   "outputs": [
    {
     "data": {
      "text/plain": [
       "[<matplotlib.lines.Line2D at 0x1586f4c70>]"
      ]
     },
     "execution_count": 48,
     "metadata": {},
     "output_type": "execute_result"
    },
    {
     "data": {
      "image/png": "[encoded data removed]",
      "text/plain": [
       "<Figure size 640x480 with 1 Axes>"
      ]
     },
     "metadata": {},
     "output_type": "display_data"
    }
   ],
   "source": [
    "plt.plot(years, effect_size_result)"
   ]
  },
  {
   "cell_type": "code",
   "execution_count": null,
   "metadata": {},
   "outputs": [],
   "source": []
  },
  {
   "cell_type": "code",
   "execution_count": null,
   "metadata": {},
   "outputs": [],
   "source": []
  }
 ],
 "metadata": {
  "kernelspec": {
   "display_name": "2590-hw4",
   "language": "python",
   "name": "python3"
  },
  "language_info": {
   "codemirror_mode": {
    "name": "ipython",
    "version": 3
   },
   "file_extension": ".py",
   "mimetype": "text/x-python",
   "name": "python",
   "nbconvert_exporter": "python",
   "pygments_lexer": "ipython3",
   "version": "3.9.7"
  },
  "orig_nbformat": 4
 },
 "nbformat": 4,
 "nbformat_minor": 2
}

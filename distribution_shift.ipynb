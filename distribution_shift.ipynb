{
 "cells": [
  {
   "cell_type": "code",
   "execution_count": 1,
   "id": "a17cbcc9",
   "metadata": {},
   "outputs": [
    {
     "name": "stdout",
     "output_type": "stream",
     "text": [
      "Collecting numpy\n",
      "  Using cached numpy-1.26.4-cp39-cp39-win_amd64.whl (15.8 MB)\n",
      "Installing collected packages: numpy\n"
     ]
    },
    {
     "name": "stderr",
     "output_type": "stream",
     "text": [
      "ERROR: Could not install packages due to an OSError: [WinError 5] Access is denied: 'C:\\\\Users\\\\chaitu\\\\anaconda3\\\\Lib\\\\site-packages\\\\numpy\\\\core\\\\_multiarray_tests.cp39-win_amd64.pyd'\n",
      "Consider using the `--user` option or check the permissions.\n",
      "\n"
     ]
    }
   ],
   "source": [
    "!pip install numpy --upgrade --ignore-installed"
   ]
  },
  {
   "cell_type": "code",
   "execution_count": 2,
   "id": "70bf19e6",
   "metadata": {},
   "outputs": [
    {
     "name": "stdout",
     "output_type": "stream",
     "text": [
      "Requirement already satisfied: embeddings in c:\\users\\chaitu\\anaconda3\\lib\\site-packages (0.0.8)\n",
      "Requirement already satisfied: numpy in c:\\users\\chaitu\\anaconda3\\lib\\site-packages (from embeddings) (1.26.4)\n",
      "Requirement already satisfied: tqdm in c:\\users\\chaitu\\appdata\\roaming\\python\\python39\\site-packages (from embeddings) (4.66.1)\n",
      "Requirement already satisfied: requests in c:\\users\\chaitu\\appdata\\roaming\\python\\python39\\site-packages (from embeddings) (2.31.0)\n",
      "Requirement already satisfied: certifi>=2017.4.17 in c:\\users\\chaitu\\anaconda3\\lib\\site-packages (from requests->embeddings) (2022.12.7)\n",
      "Requirement already satisfied: charset-normalizer<4,>=2 in c:\\users\\chaitu\\anaconda3\\lib\\site-packages (from requests->embeddings) (2.0.4)\n",
      "Requirement already satisfied: idna<4,>=2.5 in c:\\users\\chaitu\\anaconda3\\lib\\site-packages (from requests->embeddings) (3.3)\n",
      "Requirement already satisfied: urllib3<3,>=1.21.1 in c:\\users\\chaitu\\anaconda3\\lib\\site-packages (from requests->embeddings) (1.26.17)\n",
      "Requirement already satisfied: colorama in c:\\users\\chaitu\\anaconda3\\lib\\site-packages (from tqdm->embeddings) (0.4.4)\n"
     ]
    }
   ],
   "source": [
    "!pip install embeddings"
   ]
  },
  {
   "cell_type": "code",
   "execution_count": 3,
   "id": "09607a0a",
   "metadata": {},
   "outputs": [
    {
     "name": "stdout",
     "output_type": "stream",
     "text": [
      "Requirement already satisfied: threadpoolctl==3.1.0 in c:\\users\\chaitu\\anaconda3\\lib\\site-packages (3.1.0)\n"
     ]
    }
   ],
   "source": [
    "!pip install threadpoolctl==3.1.0"
   ]
  },
  {
   "cell_type": "code",
   "execution_count": 4,
   "id": "cbad4fc4",
   "metadata": {},
   "outputs": [
    {
     "name": "stderr",
     "output_type": "stream",
     "text": [
      "[nltk_data] Downloading package words to\n",
      "[nltk_data]     C:\\Users\\chaitu\\AppData\\Roaming\\nltk_data...\n",
      "[nltk_data]   Package words is already up-to-date!\n",
      "[nltk_data] Downloading package stopwords to\n",
      "[nltk_data]     C:\\Users\\chaitu\\AppData\\Roaming\\nltk_data...\n",
      "[nltk_data]   Package stopwords is already up-to-date!\n"
     ]
    }
   ],
   "source": [
    "import numpy as np\n",
    "from gensim.models import KeyedVectors\n",
    "from scipy.spatial.distance import cosine\n",
    "import nltk\n",
    "from nltk.corpus import words\n",
    "nltk.download('words')\n",
    "nltk.download('stopwords')\n",
    "from nltk.corpus import stopwords\n",
    "import matplotlib.pyplot as plt\n",
    "import random\n",
    "from tqdm import tqdm\n",
    "import os\n",
    "import pickle\n",
    "from sklearn.manifold import TSNE\n",
    "%matplotlib inline"
   ]
  },
  {
   "cell_type": "code",
   "execution_count": 5,
   "id": "e97fb96f",
   "metadata": {},
   "outputs": [],
   "source": [
    "def load_embeddings(file_path):\n",
    "    return KeyedVectors.load_word2vec_format(file_path, binary=False)\n",
    "\n",
    "# Compute cosine similarity between two vectors\n",
    "def cosine_similarity(vec1, vec2):\n",
    "    return 1 - cosine(vec1, vec2)\n",
    "\n",
    "# Compute the differential association between two sets of words\n",
    "def differential_association(word, A, B, embeddings):\n",
    "    mean_cosine_A = np.mean([cosine_similarity(embeddings[word], embeddings[a]) for a in A])\n",
    "    mean_cosine_B = np.mean([cosine_similarity(embeddings[word], embeddings[b]) for b in B])\n",
    "    return mean_cosine_A - mean_cosine_B\n",
    "\n",
    "# Compute effect size\n",
    "def effect_size(X, A, B, embeddings):\n",
    "    mean_X = np.mean([differential_association(x, A, B, embeddings) for x in X])\n",
    "    std_dev = np.std([differential_association(x, A, B, embeddings) for x in X])\n",
    "    return (mean_X) / std_dev\n",
    "\n",
    "def display_gender_bias(X, Y, A, B, embeddings):\n",
    "    male_vec = np.mean([embeddings[word] for word in A if word in embeddings], axis=0)\n",
    "    female_vec = np.mean([embeddings[word] for word in B if word in embeddings], axis=0)\n",
    "    \n",
    "    for occupation in X + Y:\n",
    "        if occupation in embeddings:\n",
    "            occ_vec = embeddings[occupation]\n",
    "            male_similarity = cosine_similarity(occ_vec, male_vec)\n",
    "            female_similarity = cosine_similarity(occ_vec, female_vec)\n",
    "            print(f\"{occupation}: Male bias={male_similarity:.4f}, Female bias={female_similarity:.4f}\")\n",
    "\n",
    "def plot_gender_bias(X, Y, A, B, embeddings):\n",
    "    male_biases = []\n",
    "    female_biases = []\n",
    "    labels = []\n",
    "\n",
    "    # Compute the average vector for male and female attributes\n",
    "    male_vec = np.mean([embeddings[word] for word in A if word in embeddings], axis=0)\n",
    "    female_vec = np.mean([embeddings[word] for word in B if word in embeddings], axis=0)\n",
    "\n",
    "    # Calculate biases for each occupation\n",
    "    for occupation in X + Y:\n",
    "        if occupation in embeddings:\n",
    "            occ_vec = embeddings[occupation]\n",
    "            male_bias = cosine_similarity(occ_vec, male_vec)\n",
    "            female_bias = cosine_similarity(occ_vec, female_vec)\n",
    "            male_biases.append(male_bias)\n",
    "            female_biases.append(female_bias)\n",
    "            labels.append(occupation)\n",
    "\n",
    "    # Plotting\n",
    "    plt.figure(figsize=(10, 8))\n",
    "    scatter = plt.scatter(male_biases, female_biases, alpha=0.6)\n",
    "\n",
    "    # Annotate some points\n",
    "    for i, label in enumerate(labels):\n",
    "        if i % 5 == 0:  # Annotate every 5th label for clarity\n",
    "            plt.annotate(label, (male_biases[i], female_biases[i]))\n",
    "\n",
    "    plt.axvline(x=0, color='grey', linestyle='--')\n",
    "    plt.axhline(y=0, color='grey', linestyle='--')\n",
    "    plt.title('Scatter Plot of Gender Bias by Occupation')\n",
    "    plt.xlabel('Cosine Similarity to Male Vector')\n",
    "    plt.ylabel('Cosine Similarity to Female Vector')\n",
    "    plt.grid(True)\n",
    "    plt.show()"
   ]
  },
  {
   "cell_type": "code",
   "execution_count": 41,
   "id": "181a7f37",
   "metadata": {},
   "outputs": [
    {
     "name": "stdout",
     "output_type": "stream",
     "text": [
      "['alluring', 'voluptuous', 'blushing', 'homely', 'plump', 'sensual', 'gorgeous', 'slim', 'bald', 'athletic', 'fashionable', 'stout', 'ugly', 'muscular', 'slender', 'feeble', 'handsome', 'healthy', 'attractive', 'fat', 'weak', 'thin', 'pretty', 'beautiful', 'strong']\n",
      "['precocious', 'resourceful', 'inquisitive', 'sagacious', 'inventive', 'astute', 'adaptable', 'reflective', 'discerning', 'intuitive', 'inquiring', 'judicious', 'analytical', 'luminous', 'venerable', 'imaginative', 'shrewd', 'thoughtful', 'sage', 'smart', 'ingenious', 'clever', 'brilliant', 'logical', 'intelligent', 'apt', 'genius', 'wise']\n",
      "['she', 'daughter', 'hers', 'her', 'mother', 'woman', 'girl', 'herself', 'female', 'sister', 'daughters', 'mothers', 'women', 'girls', 'females', 'sisters', 'aunt', 'aunts', 'niece', 'nieces']\n",
      "['he', 'son', 'his', 'him', 'father', 'man', 'boy', 'himself', 'male', 'brother', 'sons', 'fathers', 'men', 'boys', 'males', 'brothers', 'uncle', 'uncles', 'nephew', 'nephews']\n"
     ]
    }
   ],
   "source": [
    "def read_words_from_file(file_path):\n",
    "    \"\"\"\n",
    "    Read words from a text file and return them as a list.\n",
    "    \n",
    "    Parameters:\n",
    "        file_path (str): Path to the text file.\n",
    "        \n",
    "    Returns:\n",
    "        list: List of words read from the file.\n",
    "    \"\"\"\n",
    "    with open(file_path, 'r') as file:\n",
    "        words = [line.strip() for line in file]\n",
    "    return words\n",
    "\n",
    "# Example usage\n",
    "base_path = \"C:/Users/chaitu/Investigating-Biases-In-Media-Representation-Across-Time\"\n",
    "file_path = base_path+\"/adjectives_appearance.txt\" \n",
    "appearance = read_words_from_file(file_path)\n",
    "print(appearance)\n",
    "\n",
    "file_path = base_path+\"/adjectives_intelligencegeneral.txt\"  \n",
    "intelligencegeneral = read_words_from_file(file_path)\n",
    "print(intelligencegeneral)\n",
    "\n",
    "file_path = base_path+\"/female_pairs.txt\"  \n",
    "female = read_words_from_file(file_path)\n",
    "print(female)\n",
    "\n",
    "file_path = base_path+\"/male_pairs.txt\" \n",
    "male = read_words_from_file(file_path)\n",
    "print(male)\n"
   ]
  },
  {
   "cell_type": "code",
   "execution_count": 42,
   "id": "58887842",
   "metadata": {},
   "outputs": [
    {
     "data": {
      "text/plain": [
       "25"
      ]
     },
     "execution_count": 42,
     "metadata": {},
     "output_type": "execute_result"
    }
   ],
   "source": [
    "len(appearance)"
   ]
  },
  {
   "cell_type": "code",
   "execution_count": 7,
   "id": "f7d943a5",
   "metadata": {},
   "outputs": [
    {
     "name": "stdout",
     "output_type": "stream",
     "text": [
      "1810-vocab.pkl\n",
      "1810-w.npy\n",
      "1820-vocab.pkl\n",
      "1820-w.npy\n",
      "1830-vocab.pkl\n",
      "1830-w.npy\n",
      "1840-vocab.pkl\n",
      "1840-w.npy\n",
      "1850-vocab.pkl\n",
      "1850-w.npy\n",
      "1860-vocab.pkl\n",
      "1860-w.npy\n",
      "1870-vocab.pkl\n",
      "1870-w.npy\n",
      "1880-vocab.pkl\n",
      "1880-w.npy\n",
      "1890-vocab.pkl\n",
      "1890-w.npy\n",
      "1900-vocab.pkl\n",
      "1900-w.npy\n",
      "1910-vocab.pkl\n",
      "1910-w.npy\n",
      "1920-vocab.pkl\n",
      "1920-w.npy\n",
      "1930-vocab.pkl\n",
      "1930-w.npy\n",
      "1940-vocab.pkl\n",
      "1940-w.npy\n",
      "1950-vocab.pkl\n",
      "1950-w.npy\n",
      "1960-vocab.pkl\n",
      "1960-w.npy\n",
      "1970-vocab.pkl\n",
      "1970-w.npy\n",
      "1980-vocab.pkl\n",
      "1980-w.npy\n",
      "1990-vocab.pkl\n",
      "1990-w.npy\n",
      "2000-vocab.pkl\n",
      "2000-w.npy\n"
     ]
    }
   ],
   "source": [
    "years = []\n",
    "vocab = []\n",
    "base_path_embed = \"C:/Users/chaitu/Desktop/Spring'24/NLU/coha-word_sgns\"\n",
    "for file_name in os.listdir(base_path_embed+'/sgns/'):\n",
    "    print(file_name)\n",
    "    if file_name.endswith('.pkl'):\n",
    "        if file_name[:4] not in  ['1880', '2000','1860','1900']:\n",
    "                file_path = os.path.join(base_path_embed+'/sgns/', file_name)\n",
    "                words = np.load(file_path, allow_pickle=True)\n",
    "                years.append(file_name[:4])\n",
    "                vocab.append(words)"
   ]
  },
  {
   "cell_type": "code",
   "execution_count": 8,
   "id": "9d794bb8",
   "metadata": {},
   "outputs": [
    {
     "data": {
      "text/plain": [
       "['1810',\n",
       " '1820',\n",
       " '1830',\n",
       " '1840',\n",
       " '1850',\n",
       " '1870',\n",
       " '1890',\n",
       " '1910',\n",
       " '1920',\n",
       " '1930',\n",
       " '1940',\n",
       " '1950',\n",
       " '1960',\n",
       " '1970',\n",
       " '1980',\n",
       " '1990']"
      ]
     },
     "execution_count": 8,
     "metadata": {},
     "output_type": "execute_result"
    }
   ],
   "source": [
    "years"
   ]
  },
  {
   "cell_type": "code",
   "execution_count": 9,
   "id": "36de30bc",
   "metadata": {},
   "outputs": [],
   "source": [
    "file_path_words=[]\n",
    "vec_path=[]\n",
    "for file_name in os.listdir(base_path_embed+'/sgns/'):\n",
    "    if file_name.endswith('.pkl'):\n",
    "        file_path = os.path.join(base_path_embed+'/sgns/', file_name)\n",
    "        file_path_words.append(file_path)\n",
    "    if file_name.endswith('.npy'):\n",
    "        file_path = os.path.join(base_path_embed+'/sgns/', file_name)\n",
    "        vec_path.append(file_path)"
   ]
  },
  {
   "cell_type": "code",
   "execution_count": 10,
   "id": "9dfe6967",
   "metadata": {},
   "outputs": [
    {
     "data": {
      "text/plain": [
       "[\"C:/Users/chaitu/Desktop/Spring'24/NLU/coha-word_sgns/sgns/1810-vocab.pkl\",\n",
       " \"C:/Users/chaitu/Desktop/Spring'24/NLU/coha-word_sgns/sgns/1820-vocab.pkl\",\n",
       " \"C:/Users/chaitu/Desktop/Spring'24/NLU/coha-word_sgns/sgns/1830-vocab.pkl\",\n",
       " \"C:/Users/chaitu/Desktop/Spring'24/NLU/coha-word_sgns/sgns/1840-vocab.pkl\",\n",
       " \"C:/Users/chaitu/Desktop/Spring'24/NLU/coha-word_sgns/sgns/1850-vocab.pkl\",\n",
       " \"C:/Users/chaitu/Desktop/Spring'24/NLU/coha-word_sgns/sgns/1860-vocab.pkl\",\n",
       " \"C:/Users/chaitu/Desktop/Spring'24/NLU/coha-word_sgns/sgns/1870-vocab.pkl\",\n",
       " \"C:/Users/chaitu/Desktop/Spring'24/NLU/coha-word_sgns/sgns/1880-vocab.pkl\",\n",
       " \"C:/Users/chaitu/Desktop/Spring'24/NLU/coha-word_sgns/sgns/1890-vocab.pkl\",\n",
       " \"C:/Users/chaitu/Desktop/Spring'24/NLU/coha-word_sgns/sgns/1900-vocab.pkl\",\n",
       " \"C:/Users/chaitu/Desktop/Spring'24/NLU/coha-word_sgns/sgns/1910-vocab.pkl\",\n",
       " \"C:/Users/chaitu/Desktop/Spring'24/NLU/coha-word_sgns/sgns/1920-vocab.pkl\",\n",
       " \"C:/Users/chaitu/Desktop/Spring'24/NLU/coha-word_sgns/sgns/1930-vocab.pkl\",\n",
       " \"C:/Users/chaitu/Desktop/Spring'24/NLU/coha-word_sgns/sgns/1940-vocab.pkl\",\n",
       " \"C:/Users/chaitu/Desktop/Spring'24/NLU/coha-word_sgns/sgns/1950-vocab.pkl\",\n",
       " \"C:/Users/chaitu/Desktop/Spring'24/NLU/coha-word_sgns/sgns/1960-vocab.pkl\",\n",
       " \"C:/Users/chaitu/Desktop/Spring'24/NLU/coha-word_sgns/sgns/1970-vocab.pkl\",\n",
       " \"C:/Users/chaitu/Desktop/Spring'24/NLU/coha-word_sgns/sgns/1980-vocab.pkl\",\n",
       " \"C:/Users/chaitu/Desktop/Spring'24/NLU/coha-word_sgns/sgns/1990-vocab.pkl\",\n",
       " \"C:/Users/chaitu/Desktop/Spring'24/NLU/coha-word_sgns/sgns/2000-vocab.pkl\"]"
      ]
     },
     "execution_count": 10,
     "metadata": {},
     "output_type": "execute_result"
    }
   ],
   "source": [
    "file_path_words"
   ]
  },
  {
   "cell_type": "code",
   "execution_count": 11,
   "id": "2c279d62",
   "metadata": {},
   "outputs": [],
   "source": [
    "words = np.load(file_path_words[0], allow_pickle=True)\n",
    "vecs = np.load(vec_path[0], allow_pickle=True)\n",
    "\n",
    "keyed_vectors = KeyedVectors(vector_size=len(vecs[0]))\n",
    "keyed_vectors.add_vectors(words, vecs)\n"
   ]
  },
  {
   "cell_type": "code",
   "execution_count": 12,
   "id": "8644145b",
   "metadata": {},
   "outputs": [],
   "source": [
    "occupation = [\n",
    "    'janitor', 'bailiff', 'geologist', 'athlete', 'physicist', \n",
    "    'blacksmith', 'psychologist', 'mathematician', 'surveyor', 'mechanic', \n",
    "    'laborer', 'postmaster', 'broker', 'chemist', 'scientist', 'carpenter', \n",
    "    'sailor', 'instructor', 'sheriff', 'pilot', 'inspector', 'mason', \n",
    "    'architect', 'collector', 'operator', 'surgeon', 'driver', 'engineer', \n",
    "    'lawyer', 'clergy', 'physician', 'farmer', 'manager', 'guard', 'smith', \n",
    "    'official', 'police', 'doctor', 'professor', 'judge', 'author', 'soldier','astronomer',\n",
    "    'pharmacist', 'anatomist', 'linguist', 'comedian', 'swimmer',\n",
    "    'entertainer', 'politician', 'astrologer', 'philosopher', 'technician', 'deputy', 'sculptor', 'businessman',\n",
    "    'industrialist', 'historian' ,'critic', 'financier', 'president', 'actor', 'singer', 'filmmaker', 'botanist',\n",
    "    \"statistician\", \"statistician\", 'chauffeur', 'divers'\n",
    "]"
   ]
  },
  {
   "cell_type": "code",
   "execution_count": 13,
   "id": "af29e3ee",
   "metadata": {},
   "outputs": [],
   "source": [
    "def list_update(words_list):\n",
    "    word_list_updated=[]\n",
    "    for i in words_list:\n",
    "        t=False\n",
    "        for j in vocab:\n",
    "            if i not in j:\n",
    "                t = True\n",
    "        if t == False:\n",
    "            word_list_updated.append(i)\n",
    "    return word_list_updated"
   ]
  },
  {
   "cell_type": "code",
   "execution_count": 12,
   "id": "2a303632",
   "metadata": {},
   "outputs": [
    {
     "data": {
      "text/plain": [
       "False"
      ]
     },
     "execution_count": 12,
     "metadata": {},
     "output_type": "execute_result"
    }
   ],
   "source": [
    "keyed_vectors[\"alluring\"].all() != 0"
   ]
  },
  {
   "cell_type": "code",
   "execution_count": 39,
   "id": "76573789",
   "metadata": {},
   "outputs": [
    {
     "data": {
      "text/plain": [
       "['alluring',\n",
       " 'voluptuous',\n",
       " 'blushing',\n",
       " 'homely',\n",
       " 'plump',\n",
       " 'sensual',\n",
       " 'gorgeous',\n",
       " 'slim',\n",
       " 'bald',\n",
       " 'athletic',\n",
       " 'fashionable',\n",
       " 'stout',\n",
       " 'ugly',\n",
       " 'muscular',\n",
       " 'slender',\n",
       " 'feeble',\n",
       " 'handsome',\n",
       " 'healthy',\n",
       " 'attractive',\n",
       " 'fat',\n",
       " 'weak',\n",
       " 'thin',\n",
       " 'pretty',\n",
       " 'beautiful',\n",
       " 'strong']"
      ]
     },
     "execution_count": 39,
     "metadata": {},
     "output_type": "execute_result"
    }
   ],
   "source": [
    "appearance"
   ]
  },
  {
   "cell_type": "code",
   "execution_count": 43,
   "id": "eb9ab785",
   "metadata": {},
   "outputs": [],
   "source": [
    "appearance_1 = list_update(appearance)"
   ]
  },
  {
   "cell_type": "code",
   "execution_count": 44,
   "id": "37f758fb",
   "metadata": {},
   "outputs": [
    {
     "data": {
      "text/plain": [
       "25"
      ]
     },
     "execution_count": 44,
     "metadata": {},
     "output_type": "execute_result"
    }
   ],
   "source": [
    "len(appearance_1)"
   ]
  },
  {
   "cell_type": "code",
   "execution_count": 45,
   "id": "39aa4d53",
   "metadata": {},
   "outputs": [],
   "source": [
    "word_dict = {\"appearance\":appearance, \"male\": male, \"female\":female}"
   ]
  },
  {
   "cell_type": "code",
   "execution_count": 46,
   "id": "15a77a9c",
   "metadata": {},
   "outputs": [],
   "source": [
    "base_labels = [\"appearance\",\"female\",\"male\"]"
   ]
  },
  {
   "cell_type": "code",
   "execution_count": 47,
   "id": "eae9a36b",
   "metadata": {},
   "outputs": [],
   "source": [
    "def tsne_plot(model, word_dict, base_labels):\n",
    "    \"Creates a TSNE model and plots it\"\n",
    "    labels = []\n",
    "    tokens = []\n",
    "\n",
    "    color_map = {'appearance': 'green', 'female': 'red', 'male': 'blue'}\n",
    "\n",
    "    for i in base_labels:\n",
    "        for j in word_dict[i]:\n",
    "            tokens.append(model[j])\n",
    "            labels.append(i)\n",
    "    token_new = np.array(tokens)\n",
    "    tsne_model = TSNE(perplexity=15, n_components=2, init='pca', n_iter=250, random_state=23)\n",
    "    new_values = tsne_model.fit_transform(token_new)\n",
    "\n",
    "    x = []\n",
    "    y = []\n",
    "    for value in new_values:\n",
    "        x.append(value[0])\n",
    "        y.append(value[1])\n",
    "\n",
    "    plt.figure(figsize=(10, 10)) \n",
    "    for i in range(len(x)):\n",
    "        plt.scatter(x[i], y[i], color=color_map[labels[i]])\n",
    "\n",
    "    # Create dummy scatter plots for legend\n",
    "    for label, color in color_map.items():\n",
    "        plt.scatter([], [], color=color, label=label)\n",
    "\n",
    "    # Add legend\n",
    "    plt.legend()\n",
    "\n",
    "    # Hide x and y ticks\n",
    "    plt.xticks([])\n",
    "    plt.yticks([])\n",
    "\n",
    "    plt.show()"
   ]
  },
  {
   "cell_type": "code",
   "execution_count": 48,
   "id": "748627d8",
   "metadata": {},
   "outputs": [
    {
     "data": {
      "image/png": "[encoded data removed]",
      "text/plain": [
       "<Figure size 720x720 with 1 Axes>"
      ]
     },
     "metadata": {},
     "output_type": "display_data"
    }
   ],
   "source": [
    "tsne_plot(keyed_vectors, word_dict, base_labels)"
   ]
  },
  {
   "cell_type": "code",
   "execution_count": 49,
   "id": "1cf44e65",
   "metadata": {},
   "outputs": [],
   "source": [
    "words = np.load(file_path_words[10], allow_pickle=True)\n",
    "vecs = np.load(vec_path[10], allow_pickle=True)\n",
    "\n",
    "keyed_vectors = KeyedVectors(vector_size=len(vecs[0]))\n",
    "keyed_vectors.add_vectors(words, vecs)"
   ]
  },
  {
   "cell_type": "code",
   "execution_count": 50,
   "id": "ba71794f",
   "metadata": {},
   "outputs": [
    {
     "data": {
      "image/png": "[encoded data removed]",
      "text/plain": [
       "<Figure size 720x720 with 1 Axes>"
      ]
     },
     "metadata": {},
     "output_type": "display_data"
    }
   ],
   "source": [
    "tsne_plot(keyed_vectors, word_dict, base_labels)"
   ]
  },
  {
   "cell_type": "code",
   "execution_count": 51,
   "id": "2af45b44",
   "metadata": {},
   "outputs": [],
   "source": [
    "words = np.load(file_path_words[18], allow_pickle=True)\n",
    "vecs = np.load(vec_path[18], allow_pickle=True)\n",
    "\n",
    "keyed_vectors = KeyedVectors(vector_size=len(vecs[0]))\n",
    "keyed_vectors.add_vectors(words, vecs)"
   ]
  },
  {
   "cell_type": "code",
   "execution_count": 52,
   "id": "6e4a8780",
   "metadata": {},
   "outputs": [
    {
     "data": {
      "image/png": "[encoded data removed]",
      "text/plain": [
       "<Figure size 720x720 with 1 Axes>"
      ]
     },
     "metadata": {},
     "output_type": "display_data"
    }
   ],
   "source": [
    "tsne_plot(keyed_vectors, word_dict, base_labels)"
   ]
  },
  {
   "cell_type": "code",
   "execution_count": null,
   "id": "3a308e46",
   "metadata": {},
   "outputs": [],
   "source": []
  }
 ],
 "metadata": {
  "kernelspec": {
   "display_name": "hw",
   "language": "python",
   "name": "hw"
  },
  "language_info": {
   "codemirror_mode": {
    "name": "ipython",
    "version": 3
   },
   "file_extension": ".py",
   "mimetype": "text/x-python",
   "name": "python",
   "nbconvert_exporter": "python",
   "pygments_lexer": "ipython3",
   "version": "3.9.12"
  }
 },
 "nbformat": 4,
 "nbformat_minor": 5
}
